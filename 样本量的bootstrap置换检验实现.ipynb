{
 "cells": [
  {
   "cell_type": "markdown",
   "metadata": {},
   "source": [
    "# Power and Sample Size\n",
    "statsmodels has a number of methods for power calculation\n",
    "\n",
    "see e.g.: https://machinelearningmastery.com/statistical-power-and-power-analysis-in-python/"
   ]
  },
  {
   "attachments": {},
   "cell_type": "markdown",
   "metadata": {},
   "source": [
    "## 1.1 最初的实现：手写+个numba修饰"
   ]
  },
  {
   "cell_type": "code",
   "execution_count": 46,
   "metadata": {},
   "outputs": [
    {
     "name": "stderr",
     "output_type": "stream",
     "text": [
      "F:\\admin\\TEMP\\ipykernel_23368\\109395061.py:23: NumbaWarning: \u001b[1m\n",
      "Compilation is falling back to object mode WITH looplifting enabled because Function \"boostrapN\" failed type inference due to: \u001b[1mUntyped global name 'tqdm':\u001b[0m \u001b[1m\u001b[1mCannot determine Numba type of <class 'type'>\u001b[0m\n",
      "\u001b[1m\n",
      "File \"F:\\admin\\TEMP\\ipykernel_23368\\109395061.py\", line 29:\u001b[0m\n",
      "\u001b[1mdef boostrapN(p0=p0, p1=p1, startn=1000, endn=2000, stride=200, alpha=0.05):\n",
      "    <source elided>\n",
      "        beta = []\n",
      "\u001b[1m        for power_cal_times in tqdm(range(100)):\n",
      "\u001b[0m        \u001b[1m^\u001b[0m\u001b[0m\n",
      "\u001b[0m\u001b[0m\n",
      "  @jit(nopython=False)\n",
      "F:\\admin\\TEMP\\ipykernel_23368\\109395061.py:23: NumbaWarning: \u001b[1m\n",
      "Compilation is falling back to object mode WITHOUT looplifting enabled because Function \"boostrapN\" failed type inference due to: \u001b[1m\u001b[1mCannot determine Numba type of <class 'numba.core.dispatcher.LiftedLoop'>\u001b[0m\n",
      "\u001b[1m\n",
      "File \"F:\\admin\\TEMP\\ipykernel_23368\\109395061.py\", line 27:\u001b[0m\n",
      "\u001b[1mdef boostrapN(p0=p0, p1=p1, startn=1000, endn=2000, stride=200, alpha=0.05):\n",
      "    <source elided>\n",
      "    power = []\n",
      "\u001b[1m    for sample_size in range(startn, endn , stride):\n",
      "\u001b[0m    \u001b[1m^\u001b[0m\u001b[0m\n",
      "\u001b[0m\u001b[0m\n",
      "  @jit(nopython=False)\n",
      "c:\\Anaconda3\\lib\\site-packages\\numba\\core\\object_mode_passes.py:151: NumbaWarning: \u001b[1mFunction \"boostrapN\" was compiled in object mode without forceobj=True, but has lifted loops.\n",
      "\u001b[1m\n",
      "File \"F:\\admin\\TEMP\\ipykernel_23368\\109395061.py\", line 26:\u001b[0m\n",
      "\u001b[1mdef boostrapN(p0=p0, p1=p1, startn=1000, endn=2000, stride=200, alpha=0.05):\n",
      "    <source elided>\n",
      "    \"\"\"搜索Power大于80%的样本量：2n\"\"\"\n",
      "\u001b[1m    power = []\n",
      "\u001b[0m    \u001b[1m^\u001b[0m\u001b[0m\n",
      "\u001b[0m\n",
      "  warnings.warn(errors.NumbaWarning(warn_msg,\n",
      "c:\\Anaconda3\\lib\\site-packages\\numba\\core\\object_mode_passes.py:161: NumbaDeprecationWarning: \u001b[1m\n",
      "Fall-back from the nopython compilation path to the object mode compilation path has been detected, this is deprecated behaviour.\n",
      "\n",
      "For more information visit https://numba.readthedocs.io/en/stable/reference/deprecation.html#deprecation-of-object-mode-fall-back-behaviour-when-using-jit\n",
      "\u001b[1m\n",
      "File \"F:\\admin\\TEMP\\ipykernel_23368\\109395061.py\", line 26:\u001b[0m\n",
      "\u001b[1mdef boostrapN(p0=p0, p1=p1, startn=1000, endn=2000, stride=200, alpha=0.05):\n",
      "    <source elided>\n",
      "    \"\"\"搜索Power大于80%的样本量：2n\"\"\"\n",
      "\u001b[1m    power = []\n",
      "\u001b[0m    \u001b[1m^\u001b[0m\u001b[0m\n",
      "\u001b[0m\n",
      "  warnings.warn(errors.NumbaDeprecationWarning(msg,\n",
      "F:\\admin\\TEMP\\ipykernel_23368\\109395061.py:23: NumbaWarning: \u001b[1m\n",
      "Compilation is falling back to object mode WITHOUT looplifting enabled because Function \"boostrapN\" failed type inference due to: \u001b[1mUntyped global name 'tqdm':\u001b[0m \u001b[1m\u001b[1mCannot determine Numba type of <class 'type'>\u001b[0m\n",
      "\u001b[1m\n",
      "File \"F:\\admin\\TEMP\\ipykernel_23368\\109395061.py\", line 29:\u001b[0m\n",
      "\u001b[1mdef boostrapN(p0=p0, p1=p1, startn=1000, endn=2000, stride=200, alpha=0.05):\n",
      "    <source elided>\n",
      "        beta = []\n",
      "\u001b[1m        for power_cal_times in tqdm(range(100)):\n",
      "\u001b[0m        \u001b[1m^\u001b[0m\u001b[0m\n",
      "\u001b[0m\u001b[0m\n",
      "  @jit(nopython=False)\n",
      "c:\\Anaconda3\\lib\\site-packages\\numba\\core\\object_mode_passes.py:151: NumbaWarning: \u001b[1mFunction \"boostrapN\" was compiled in object mode without forceobj=True.\n",
      "\u001b[1m\n",
      "File \"F:\\admin\\TEMP\\ipykernel_23368\\109395061.py\", line 27:\u001b[0m\n",
      "\u001b[1mdef boostrapN(p0=p0, p1=p1, startn=1000, endn=2000, stride=200, alpha=0.05):\n",
      "    <source elided>\n",
      "    power = []\n",
      "\u001b[1m    for sample_size in range(startn, endn , stride):\n",
      "\u001b[0m    \u001b[1m^\u001b[0m\u001b[0m\n",
      "\u001b[0m\n",
      "  warnings.warn(errors.NumbaWarning(warn_msg,\n",
      "c:\\Anaconda3\\lib\\site-packages\\numba\\core\\object_mode_passes.py:161: NumbaDeprecationWarning: \u001b[1m\n",
      "Fall-back from the nopython compilation path to the object mode compilation path has been detected, this is deprecated behaviour.\n",
      "\n",
      "For more information visit https://numba.readthedocs.io/en/stable/reference/deprecation.html#deprecation-of-object-mode-fall-back-behaviour-when-using-jit\n",
      "\u001b[1m\n",
      "File \"F:\\admin\\TEMP\\ipykernel_23368\\109395061.py\", line 27:\u001b[0m\n",
      "\u001b[1mdef boostrapN(p0=p0, p1=p1, startn=1000, endn=2000, stride=200, alpha=0.05):\n",
      "    <source elided>\n",
      "    power = []\n",
      "\u001b[1m    for sample_size in range(startn, endn , stride):\n",
      "\u001b[0m    \u001b[1m^\u001b[0m\u001b[0m\n",
      "\u001b[0m\n",
      "  warnings.warn(errors.NumbaDeprecationWarning(msg,\n",
      "  0%|          | 0/100 [00:00<?, ?it/s]F:\\admin\\TEMP\\ipykernel_23368\\109395061.py:12: NumbaWarning: \u001b[1m\n",
      "Compilation is falling back to object mode WITH looplifting enabled because Function \"perm_fun\" failed type inference due to: \u001b[1m\u001b[1mNo implementation of function Function(<built-in function getitem>) found for signature:\n",
      " \n",
      " >>> getitem(array(float64, 1d, C), list(int64)<iv=None>)\n",
      " \n",
      "There are 22 candidate implementations:\n",
      "\u001b[1m     - Of which 20 did not match due to:\n",
      "     Overload of function 'getitem': File: <numerous>: Line N/A.\n",
      "       With argument(s): '(array(float64, 1d, C), list(int64)<iv=None>)':\u001b[0m\n",
      "\u001b[1m      No match.\u001b[0m\n",
      "\u001b[1m     - Of which 2 did not match due to:\n",
      "     Overload in function 'GetItemBuffer.generic': File: numba\\core\\typing\\arraydecl.py: Line 166.\n",
      "       With argument(s): '(array(float64, 1d, C), list(int64)<iv=None>)':\u001b[0m\n",
      "\u001b[1m      Rejected as the implementation raised a specific error:\n",
      "        NumbaTypeError: \u001b[1munsupported array index type list(int64)<iv=None> in [list(int64)<iv=None>]\u001b[0m\u001b[0m\n",
      "  raised from c:\\Anaconda3\\lib\\site-packages\\numba\\core\\typing\\arraydecl.py:72\n",
      "\u001b[0m\n",
      "\u001b[0m\u001b[1mDuring: typing of intrinsic-call at F:\\admin\\TEMP\\ipykernel_23368\\109395061.py (19)\u001b[0m\n",
      "\u001b[1m\n",
      "File \"F:\\admin\\TEMP\\ipykernel_23368\\109395061.py\", line 19:\u001b[0m\n",
      "\u001b[1mdef perm_fun(x, nA, nB, double_site_test=True):\n",
      "    <source elided>\n",
      "    if double_site_test:\n",
      "\u001b[1m        return abs(x[list(idx_B)].mean() - x[list(idx_A)].mean())\n",
      "\u001b[0m        \u001b[1m^\u001b[0m\u001b[0m\n",
      "\u001b[0m\n",
      "  @jit(nopython=False)\n",
      "c:\\Anaconda3\\lib\\site-packages\\numba\\core\\object_mode_passes.py:151: NumbaWarning: \u001b[1mFunction \"perm_fun\" was compiled in object mode without forceobj=True.\n",
      "\u001b[1m\n",
      "File \"F:\\admin\\TEMP\\ipykernel_23368\\109395061.py\", line 13:\u001b[0m\n",
      "\u001b[1m@jit(nopython=False)\n",
      "\u001b[1mdef perm_fun(x, nA, nB, double_site_test=True):\n",
      "\u001b[0m\u001b[1m^\u001b[0m\u001b[0m\n",
      "\u001b[0m\n",
      "  warnings.warn(errors.NumbaWarning(warn_msg,\n",
      "c:\\Anaconda3\\lib\\site-packages\\numba\\core\\object_mode_passes.py:161: NumbaDeprecationWarning: \u001b[1m\n",
      "Fall-back from the nopython compilation path to the object mode compilation path has been detected, this is deprecated behaviour.\n",
      "\n",
      "For more information visit https://numba.readthedocs.io/en/stable/reference/deprecation.html#deprecation-of-object-mode-fall-back-behaviour-when-using-jit\n",
      "\u001b[1m\n",
      "File \"F:\\admin\\TEMP\\ipykernel_23368\\109395061.py\", line 13:\u001b[0m\n",
      "\u001b[1m@jit(nopython=False)\n",
      "\u001b[1mdef perm_fun(x, nA, nB, double_site_test=True):\n",
      "\u001b[0m\u001b[1m^\u001b[0m\u001b[0m\n",
      "\u001b[0m\n",
      "  warnings.warn(errors.NumbaDeprecationWarning(msg,\n",
      "100%|██████████| 100/100 [00:31<00:00,  3.22it/s]\n",
      "100%|██████████| 100/100 [00:35<00:00,  2.79it/s]\n",
      "100%|██████████| 100/100 [00:43<00:00,  2.29it/s]\n",
      " 35%|███▌      | 35/100 [00:17<00:32,  2.02it/s]\n"
     ]
    },
    {
     "ename": "KeyboardInterrupt",
     "evalue": "",
     "output_type": "error",
     "traceback": [
      "\u001b[1;31m---------------------------------------------------------------------------\u001b[0m",
      "\u001b[1;31mKeyboardInterrupt\u001b[0m                         Traceback (most recent call last)",
      "Cell \u001b[1;32mIn[46], line 51\u001b[0m\n\u001b[0;32m     48\u001b[0m             \u001b[39mprint\u001b[39m(\u001b[39mf\u001b[39m\u001b[39m'\u001b[39m\u001b[39m当样本量为\u001b[39m\u001b[39m{\u001b[39;00msample_size\u001b[39m}\u001b[39;00m\u001b[39m时，POWER=\u001b[39m\u001b[39m{\u001b[39;00mpower_i\u001b[39m}\u001b[39;00m\u001b[39m'\u001b[39m)\n\u001b[0;32m     50\u001b[0m \u001b[39mif\u001b[39;00m \u001b[39m__name__\u001b[39m \u001b[39m==\u001b[39m \u001b[39m'\u001b[39m\u001b[39m__main__\u001b[39m\u001b[39m'\u001b[39m:\n\u001b[1;32m---> 51\u001b[0m     main()\n",
      "Cell \u001b[1;32mIn[46], line 43\u001b[0m, in \u001b[0;36mmain\u001b[1;34m()\u001b[0m\n\u001b[0;32m     42\u001b[0m \u001b[39mdef\u001b[39;00m \u001b[39mmain\u001b[39m():\n\u001b[1;32m---> 43\u001b[0m     power \u001b[39m=\u001b[39m boostrapN()\n\u001b[0;32m     44\u001b[0m     \u001b[39mfor\u001b[39;00m sample_size, power_i \u001b[39min\u001b[39;00m power:\n\u001b[0;32m     45\u001b[0m         \u001b[39mif\u001b[39;00m power_i \u001b[39m>\u001b[39m \u001b[39m0.8\u001b[39m:\n",
      "File \u001b[1;32mc:\\Anaconda3\\lib\\site-packages\\numpy\\core\\_methods.py:163\u001b[0m, in \u001b[0;36m_mean\u001b[1;34m(a, axis, dtype, out, keepdims, where)\u001b[0m\n\u001b[0;32m    159\u001b[0m     \u001b[39melse\u001b[39;00m:\n\u001b[0;32m    160\u001b[0m         \u001b[39mreturn\u001b[39;00m _clip_dep_invoke_with_casting(\n\u001b[0;32m    161\u001b[0m             um\u001b[39m.\u001b[39mclip, a, \u001b[39mmin\u001b[39m, \u001b[39mmax\u001b[39m, out\u001b[39m=\u001b[39mout, casting\u001b[39m=\u001b[39mcasting, \u001b[39m*\u001b[39m\u001b[39m*\u001b[39mkwargs)\n\u001b[1;32m--> 163\u001b[0m \u001b[39mdef\u001b[39;00m \u001b[39m_mean\u001b[39m(a, axis\u001b[39m=\u001b[39m\u001b[39mNone\u001b[39;00m, dtype\u001b[39m=\u001b[39m\u001b[39mNone\u001b[39;00m, out\u001b[39m=\u001b[39m\u001b[39mNone\u001b[39;00m, keepdims\u001b[39m=\u001b[39m\u001b[39mFalse\u001b[39;00m, \u001b[39m*\u001b[39m, where\u001b[39m=\u001b[39m\u001b[39mTrue\u001b[39;00m):\n\u001b[0;32m    164\u001b[0m     arr \u001b[39m=\u001b[39m asanyarray(a)\n\u001b[0;32m    166\u001b[0m     is_float16_result \u001b[39m=\u001b[39m \u001b[39mFalse\u001b[39;00m\n",
      "\u001b[1;31mKeyboardInterrupt\u001b[0m: "
     ]
    }
   ],
   "source": [
    "from numba import jit, cuda\n",
    "import pandas as pd\n",
    "import numpy as np\n",
    "from tqdm import tqdm\n",
    "\n",
    "p0 = np.zeros(100)\n",
    "p0[:5] = 1\n",
    "p1 = np.zeros(100)\n",
    "p1[:6] = 1\n",
    "effect_size = abs(p0.mean() - p1.mean())\n",
    "\n",
    "@jit(nopython=False)\n",
    "def perm_fun(x, nA, nB, double_site_test=True):\n",
    "    \"\"\"置换检验\"\"\"\n",
    "    n = nA + nB\n",
    "    idx_B = set(np.random.choice(n, nB , replace=False))\n",
    "    idx_A = set(range(n)) - idx_B\n",
    "    if double_site_test:\n",
    "        return abs(x[list(idx_B)].mean() - x[list(idx_A)].mean())\n",
    "    else:\n",
    "        return x[list(idx_B)].mean() - x[list(idx_A)].mean()\n",
    "\n",
    "@jit(nopython=False)\n",
    "def boostrapN(p0=p0, p1=p1, startn=1000, endn=2000, stride=200, alpha=0.05):\n",
    "    \"\"\"搜索Power大于80%的样本量：2n\"\"\"\n",
    "    power = []\n",
    "    for sample_size in range(startn, endn , stride):\n",
    "        beta = []\n",
    "        for power_cal_times in tqdm(range(100)):\n",
    "            # 在p0、p1两个总体上boostrap抽取n+n的样本\n",
    "            l = np.concatenate((np.random.choice(p0, sample_size, replace=True), np.random.choice(p1, sample_size, replace=True)),axis=0)\n",
    "            # l = pd.Series(l)\n",
    "            # 在n的合并样本上进行1000次置换计算差异\n",
    "            perm_diffs = [perm_fun(l,sample_size,sample_size) for _ in range(1000)]\n",
    "            # 计算差异大于效应量的频率\n",
    "            beta.append(np.mean([diff > effect_size for diff in perm_diffs]))\n",
    "        power_i = np.mean([betai < alpha for betai in beta])\n",
    "        power.append((sample_size*2, power_i))\n",
    "    return power\n",
    "        \n",
    "\n",
    "def main():\n",
    "    power = boostrapN()\n",
    "    for sample_size, power_i in power:\n",
    "        if power_i > 0.8:\n",
    "                print(f'当样本量为{sample_size}时，置换检验的p值为显著性的概率POWER为{power_i}')\n",
    "        else:\n",
    "            print(f'当样本量为{sample_size}时，POWER={power_i}')\n",
    "\n",
    "if __name__ == '__main__':\n",
    "    main()\n"
   ]
  },
  {
   "attachments": {},
   "cell_type": "markdown",
   "metadata": {},
   "source": [
    "## 1.2 BingAI给出的多进程实现"
   ]
  },
  {
   "cell_type": "code",
   "execution_count": 45,
   "metadata": {},
   "outputs": [
    {
     "name": "stderr",
     "output_type": "stream",
     "text": [
      " 53%|█████▎    | 526/1000 [02:12<01:59,  3.96it/s]\n"
     ]
    },
    {
     "ename": "KeyboardInterrupt",
     "evalue": "",
     "output_type": "error",
     "traceback": [
      "\u001b[1;31m---------------------------------------------------------------------------\u001b[0m",
      "\u001b[1;31mKeyboardInterrupt\u001b[0m                         Traceback (most recent call last)",
      "Cell \u001b[1;32mIn[45], line 55\u001b[0m\n\u001b[0;32m     52\u001b[0m             \u001b[39mprint\u001b[39m(\u001b[39mf\u001b[39m\u001b[39m'\u001b[39m\u001b[39m当样本量为\u001b[39m\u001b[39m{\u001b[39;00msample_size\u001b[39m}\u001b[39;00m\u001b[39m时，POWER=\u001b[39m\u001b[39m{\u001b[39;00mpower_i\u001b[39m}\u001b[39;00m\u001b[39m'\u001b[39m)\n\u001b[0;32m     54\u001b[0m \u001b[39mif\u001b[39;00m \u001b[39m__name__\u001b[39m \u001b[39m==\u001b[39m \u001b[39m'\u001b[39m\u001b[39m__main__\u001b[39m\u001b[39m'\u001b[39m:\n\u001b[1;32m---> 55\u001b[0m     main()\n",
      "Cell \u001b[1;32mIn[45], line 47\u001b[0m, in \u001b[0;36mmain\u001b[1;34m()\u001b[0m\n\u001b[0;32m     46\u001b[0m \u001b[39mdef\u001b[39;00m \u001b[39mmain\u001b[39m():\n\u001b[1;32m---> 47\u001b[0m     power \u001b[39m=\u001b[39m boostrapN()\n\u001b[0;32m     48\u001b[0m     \u001b[39mfor\u001b[39;00m sample_size, power_i \u001b[39min\u001b[39;00m power:\n\u001b[0;32m     49\u001b[0m         \u001b[39mif\u001b[39;00m power_i \u001b[39m>\u001b[39m \u001b[39m0.8\u001b[39m:\n",
      "Cell \u001b[1;32mIn[45], line 39\u001b[0m, in \u001b[0;36mboostrapN\u001b[1;34m(p0, p1, startn, endn, stride, alpha)\u001b[0m\n\u001b[0;32m     33\u001b[0m l \u001b[39m=\u001b[39m np\u001b[39m.\u001b[39mconcatenate((np\u001b[39m.\u001b[39mrandom\u001b[39m.\u001b[39mchoice(p0,sample_size,\n\u001b[0;32m     34\u001b[0m                                      replace\u001b[39m=\u001b[39m\u001b[39mTrue\u001b[39;00m),\n\u001b[0;32m     35\u001b[0m                     np\u001b[39m.\u001b[39mrandom\u001b[39m.\u001b[39mchoice(p1,sample_size,\n\u001b[0;32m     36\u001b[0m                                      replace\u001b[39m=\u001b[39m\u001b[39mTrue\u001b[39;00m)),\n\u001b[0;32m     37\u001b[0m                    axis\u001b[39m=\u001b[39m\u001b[39m0\u001b[39m)\n\u001b[0;32m     38\u001b[0m \u001b[39m# 在n的合并样本上进行10000次置换计算差异\u001b[39;00m\n\u001b[1;32m---> 39\u001b[0m perm_diffs \u001b[39m=\u001b[39m Parallel(n_jobs\u001b[39m=\u001b[39;49m\u001b[39m-\u001b[39;49m\u001b[39m1\u001b[39;49m)(delayed(perm_fun_parallel)(l,sample_size,sample_size) \u001b[39mfor\u001b[39;49;00m _ \u001b[39min\u001b[39;49;00m \u001b[39mrange\u001b[39;49m(\u001b[39m1000\u001b[39;49m))\n\u001b[0;32m     40\u001b[0m \u001b[39m# 计算差异大于效应量的频率\u001b[39;00m\n\u001b[0;32m     41\u001b[0m beta\u001b[39m.\u001b[39mappend(np\u001b[39m.\u001b[39mmean([diff \u001b[39m>\u001b[39m effect_size \u001b[39mfor\u001b[39;00m diff \u001b[39min\u001b[39;00m perm_diffs]))\n",
      "File \u001b[1;32mc:\\Anaconda3\\lib\\site-packages\\joblib\\parallel.py:1061\u001b[0m, in \u001b[0;36mParallel.__call__\u001b[1;34m(self, iterable)\u001b[0m\n\u001b[0;32m   1058\u001b[0m     \u001b[39mself\u001b[39m\u001b[39m.\u001b[39m_iterating \u001b[39m=\u001b[39m \u001b[39mFalse\u001b[39;00m\n\u001b[0;32m   1060\u001b[0m \u001b[39mwith\u001b[39;00m \u001b[39mself\u001b[39m\u001b[39m.\u001b[39m_backend\u001b[39m.\u001b[39mretrieval_context():\n\u001b[1;32m-> 1061\u001b[0m     \u001b[39mself\u001b[39;49m\u001b[39m.\u001b[39;49mretrieve()\n\u001b[0;32m   1062\u001b[0m \u001b[39m# Make sure that we get a last message telling us we are done\u001b[39;00m\n\u001b[0;32m   1063\u001b[0m elapsed_time \u001b[39m=\u001b[39m time\u001b[39m.\u001b[39mtime() \u001b[39m-\u001b[39m \u001b[39mself\u001b[39m\u001b[39m.\u001b[39m_start_time\n",
      "File \u001b[1;32mc:\\Anaconda3\\lib\\site-packages\\joblib\\parallel.py:938\u001b[0m, in \u001b[0;36mParallel.retrieve\u001b[1;34m(self)\u001b[0m\n\u001b[0;32m    936\u001b[0m \u001b[39mtry\u001b[39;00m:\n\u001b[0;32m    937\u001b[0m     \u001b[39mif\u001b[39;00m \u001b[39mgetattr\u001b[39m(\u001b[39mself\u001b[39m\u001b[39m.\u001b[39m_backend, \u001b[39m'\u001b[39m\u001b[39msupports_timeout\u001b[39m\u001b[39m'\u001b[39m, \u001b[39mFalse\u001b[39;00m):\n\u001b[1;32m--> 938\u001b[0m         \u001b[39mself\u001b[39m\u001b[39m.\u001b[39m_output\u001b[39m.\u001b[39mextend(job\u001b[39m.\u001b[39;49mget(timeout\u001b[39m=\u001b[39;49m\u001b[39mself\u001b[39;49m\u001b[39m.\u001b[39;49mtimeout))\n\u001b[0;32m    939\u001b[0m     \u001b[39melse\u001b[39;00m:\n\u001b[0;32m    940\u001b[0m         \u001b[39mself\u001b[39m\u001b[39m.\u001b[39m_output\u001b[39m.\u001b[39mextend(job\u001b[39m.\u001b[39mget())\n",
      "File \u001b[1;32mc:\\Anaconda3\\lib\\site-packages\\joblib\\_parallel_backends.py:542\u001b[0m, in \u001b[0;36mLokyBackend.wrap_future_result\u001b[1;34m(future, timeout)\u001b[0m\n\u001b[0;32m    539\u001b[0m \u001b[39m\"\"\"Wrapper for Future.result to implement the same behaviour as\u001b[39;00m\n\u001b[0;32m    540\u001b[0m \u001b[39mAsyncResults.get from multiprocessing.\"\"\"\u001b[39;00m\n\u001b[0;32m    541\u001b[0m \u001b[39mtry\u001b[39;00m:\n\u001b[1;32m--> 542\u001b[0m     \u001b[39mreturn\u001b[39;00m future\u001b[39m.\u001b[39;49mresult(timeout\u001b[39m=\u001b[39;49mtimeout)\n\u001b[0;32m    543\u001b[0m \u001b[39mexcept\u001b[39;00m CfTimeoutError \u001b[39mas\u001b[39;00m e:\n\u001b[0;32m    544\u001b[0m     \u001b[39mraise\u001b[39;00m \u001b[39mTimeoutError\u001b[39;00m \u001b[39mfrom\u001b[39;00m \u001b[39me\u001b[39;00m\n",
      "File \u001b[1;32mc:\\Anaconda3\\lib\\concurrent\\futures\\_base.py:434\u001b[0m, in \u001b[0;36mFuture.result\u001b[1;34m(self, timeout)\u001b[0m\n\u001b[0;32m    431\u001b[0m \u001b[39melif\u001b[39;00m \u001b[39mself\u001b[39m\u001b[39m.\u001b[39m_state \u001b[39m==\u001b[39m FINISHED:\n\u001b[0;32m    432\u001b[0m     \u001b[39mreturn\u001b[39;00m \u001b[39mself\u001b[39m\u001b[39m.\u001b[39m__get_result()\n\u001b[1;32m--> 434\u001b[0m \u001b[39mself\u001b[39;49m\u001b[39m.\u001b[39;49m_condition\u001b[39m.\u001b[39;49mwait(timeout)\n\u001b[0;32m    436\u001b[0m \u001b[39mif\u001b[39;00m \u001b[39mself\u001b[39m\u001b[39m.\u001b[39m_state \u001b[39min\u001b[39;00m [CANCELLED, CANCELLED_AND_NOTIFIED]:\n\u001b[0;32m    437\u001b[0m     \u001b[39mraise\u001b[39;00m CancelledError()\n",
      "File \u001b[1;32mc:\\Anaconda3\\lib\\threading.py:302\u001b[0m, in \u001b[0;36mCondition.wait\u001b[1;34m(self, timeout)\u001b[0m\n\u001b[0;32m    300\u001b[0m \u001b[39mtry\u001b[39;00m:    \u001b[39m# restore state no matter what (e.g., KeyboardInterrupt)\u001b[39;00m\n\u001b[0;32m    301\u001b[0m     \u001b[39mif\u001b[39;00m timeout \u001b[39mis\u001b[39;00m \u001b[39mNone\u001b[39;00m:\n\u001b[1;32m--> 302\u001b[0m         waiter\u001b[39m.\u001b[39;49macquire()\n\u001b[0;32m    303\u001b[0m         gotit \u001b[39m=\u001b[39m \u001b[39mTrue\u001b[39;00m\n\u001b[0;32m    304\u001b[0m     \u001b[39melse\u001b[39;00m:\n",
      "\u001b[1;31mKeyboardInterrupt\u001b[0m: "
     ]
    }
   ],
   "source": [
    "from joblib import Parallel, delayed\n",
    "from numba import jit, cuda\n",
    "import pandas as pd\n",
    "import numpy as np\n",
    "from tqdm import tqdm\n",
    "\n",
    "p0 = np.zeros(100)\n",
    "p0[:5] = 1\n",
    "p1 = np.zeros(100)\n",
    "p1[:6] = 1\n",
    "effect_size = abs(p0.mean() - p1.mean())\n",
    "\n",
    "def perm_fun_parallel(x, nA, nB, double_site_test=True):\n",
    "    \"\"\"置换检验\"\"\"\n",
    "    n = nA + nB\n",
    "    idx_B = set(np.random.choice(n, nB , replace=False))\n",
    "    idx_A = set(range(n)) - idx_B\n",
    "    mean_B = x[list(idx_B)].sum() / nB\n",
    "    mean_A = x[list(idx_A)].sum() / nA\n",
    "    if double_site_test:\n",
    "        return abs(mean_B - mean_A)\n",
    "    else:\n",
    "        return mean_B - mean_A\n",
    "\n",
    "def boostrapN(p0=p0,p1=p1,startn=400,endn=1200,\n",
    "                       stride=200,alpha=0.05):\n",
    "    \"\"\"搜索Power大于80%的样本量：2n\"\"\"\n",
    "    power = []\n",
    "    for sample_size in range(startn,endn,stride):\n",
    "        beta = []\n",
    "        for power_cal_times in tqdm(range(1000)):\n",
    "            # 在p0、p1两个总体上boostrap抽取n+n的样本\n",
    "            l = np.concatenate((np.random.choice(p0,sample_size,\n",
    "                                                 replace=True),\n",
    "                                np.random.choice(p1,sample_size,\n",
    "                                                 replace=True)),\n",
    "                               axis=0)\n",
    "            # 在n的合并样本上进行10000次置换计算差异\n",
    "            perm_diffs = Parallel(n_jobs=-1)(delayed(perm_fun_parallel)(l,sample_size,sample_size) for _ in range(1000))\n",
    "            # 计算差异大于效应量的频率\n",
    "            beta.append(np.mean([diff > effect_size for diff in perm_diffs]))\n",
    "        power_i = np.mean([betai < alpha for betai in beta])\n",
    "        power.append((sample_size*2,power_i))\n",
    "    return power\n",
    "\n",
    "def main():\n",
    "    power = boostrapN()\n",
    "    for sample_size, power_i in power:\n",
    "        if power_i > 0.8:\n",
    "                print(f'当样本量为{sample_size}时，置换检验的p值为显著性的概率POWER为{power_i}')\n",
    "        else:\n",
    "            print(f'当样本量为{sample_size}时，POWER={power_i}')\n",
    "\n",
    "if __name__ == '__main__':\n",
    "    main()"
   ]
  },
  {
   "attachments": {},
   "cell_type": "markdown",
   "metadata": {},
   "source": [
    "## 1.3 根据BingAI提示的代码,自己去github看文档和issue写的代码\n",
    "\n",
    "现在的问题是内存占用太大,可以试试把中间过程存到磁盘"
   ]
  },
  {
   "cell_type": "code",
   "execution_count": 43,
   "metadata": {},
   "outputs": [
    {
     "name": "stdout",
     "output_type": "stream",
     "text": [
      "1200 0.843\n"
     ]
    }
   ],
   "source": [
    "\n",
    "# 导入必要的库\n",
    "import numpy as np\n",
    "from scipy.stats import permutation_test\n",
    "\n",
    "# 定义两个数据集\n",
    "p0 = np.zeros(100)\n",
    "p0[:5] = 1\n",
    "p1 = np.zeros(100)\n",
    "p1[:8] = 1\n",
    "effect_size = abs(p0.mean() - p1.mean())\n",
    "\n",
    "# 定义一个目标功效（例如80%）\n",
    "power = 0.8\n",
    "alpha = 0.05\n",
    "# 定义一个初始样本量（例如400）\n",
    "sample_size = 400\n",
    "\n",
    "# 定义一个函数，用来计算均值\n",
    "def means(x,y,axis):\n",
    "    return np.mean(x, axis=axis) - np.mean(y, axis=axis)\n",
    "\n",
    "# 使用一个循环来逐渐增加样本量，直到达到目标功效\n",
    "while True:\n",
    "    x_sample = np.random.choice(p0, size=(sample_size,1000), replace=True)\n",
    "    y_sample = np.random.choice(p1, size=(sample_size,1000), replace=True)\n",
    "\n",
    "    # 对这两个数据集进行置换检验，并行采样1000次，并测试它们的均值是否相等\n",
    "    p_value = permutation_test((x_sample,y_sample),statistic=means,n_resamples=1000,vectorized=True)\n",
    "\n",
    "    current_power = (p_value.pvalue<=alpha).mean()\n",
    "\n",
    "    if current_power >= power:\n",
    "        break\n",
    "    else:\n",
    "        sample_size += 400\n",
    "\n",
    "# 打印最终结果：达到目标功效所需的最小样本量\n",
    "print(sample_size , current_power)"
   ]
  },
  {
   "cell_type": "code",
   "execution_count": 10,
   "metadata": {},
   "outputs": [
    {
     "data": {
      "text/plain": [
       "0.24"
      ]
     },
     "execution_count": 10,
     "metadata": {},
     "output_type": "execute_result"
    }
   ],
   "source": [
    "l = np.concatenate([np.random.choice(p0, 300, replace=True), np.random.choice(p1, 300, replace=True)],axis=0)\n",
    "l.mean()"
   ]
  },
  {
   "cell_type": "code",
   "execution_count": 1,
   "metadata": {},
   "outputs": [
    {
     "name": "stdout",
     "output_type": "stream",
     "text": [
      "Mon Feb 27 15:12:26 2023    result.cprofile\n",
      "\n",
      "         179 function calls (178 primitive calls) in 0.000 seconds\n",
      "\n",
      "   Ordered by: cumulative time, function name\n",
      "   List reduced from 40 to 30 due to restriction <30>\n",
      "\n",
      "   ncalls  tottime  percall  cumtime  percall filename:lineno(function)\n",
      "        1    0.000    0.000    0.000    0.000 {built-in method builtins.exec}\n",
      "        1    0.000    0.000    0.000    0.000 <string>:1(<module>)\n",
      "        1    0.000    0.000    0.000    0.000 re.py:250(compile)\n",
      "        1    0.000    0.000    0.000    0.000 re.py:289(_compile)\n",
      "        1    0.000    0.000    0.000    0.000 sre_compile.py:759(compile)\n",
      "        1    0.000    0.000    0.000    0.000 sre_parse.py:937(parse)\n",
      "        1    0.000    0.000    0.000    0.000 sre_parse.py:435(_parse_sub)\n",
      "        1    0.000    0.000    0.000    0.000 sre_parse.py:493(_parse)\n",
      "        1    0.000    0.000    0.000    0.000 sre_compile.py:598(_code)\n",
      "        1    0.000    0.000    0.000    0.000 sre_compile.py:536(_compile_info)\n",
      "       11    0.000    0.000    0.000    0.000 sre_parse.py:172(append)\n",
      "       11    0.000    0.000    0.000    0.000 sre_parse.py:254(get)\n",
      "        1    0.000    0.000    0.000    0.000 sre_parse.py:174(getwidth)\n",
      "        1    0.000    0.000    0.000    0.000 enum.py:833(__and__)\n",
      "        1    0.000    0.000    0.000    0.000 sre_compile.py:71(_compile)\n",
      "       12    0.000    0.000    0.000    0.000 sre_parse.py:233(__next)\n",
      "        1    0.000    0.000    0.000    0.000 sre_compile.py:461(_get_literal_prefix)\n",
      "       53    0.000    0.000    0.000    0.000 {method 'append' of 'list' objects}\n",
      "        2    0.000    0.000    0.000    0.000 enum.py:283(__call__)\n",
      "       11    0.000    0.000    0.000    0.000 sre_parse.py:164(__getitem__)\n",
      "        1    0.000    0.000    0.000    0.000 sre_parse.py:224(__init__)\n",
      "        1    0.000    0.000    0.000    0.000 sre_compile.py:432(_generate_overlap_table)\n",
      "       18    0.000    0.000    0.000    0.000 {built-in method builtins.isinstance}\n",
      "    13/12    0.000    0.000    0.000    0.000 {built-in method builtins.len}\n",
      "        1    0.000    0.000    0.000    0.000 sre_parse.py:286(tell)\n",
      "        2    0.000    0.000    0.000    0.000 sre_compile.py:595(isstring)\n",
      "        2    0.000    0.000    0.000    0.000 enum.py:562(__new__)\n",
      "        1    0.000    0.000    0.000    0.000 sre_parse.py:921(fix_flags)\n",
      "       11    0.000    0.000    0.000    0.000 {built-in method builtins.ord}\n",
      "        1    0.000    0.000    0.000    0.000 sre_parse.py:76(__init__)\n",
      "\n",
      "\n"
     ]
    },
    {
     "data": {
      "text/plain": [
       "<pstats.Stats at 0x211b6a0e190>"
      ]
     },
     "execution_count": 1,
     "metadata": {},
     "output_type": "execute_result"
    }
   ],
   "source": [
    "import cProfile\n",
    "import re\n",
    "import pstats\n",
    "\n",
    "\n",
    "cProfile.run('re.compile(\"power_boots\")', filename='result.cprofile')\n",
    "p = pstats.Stats('result.cprofile')\n",
    "# 按照运行时间和函数名进行排序\n",
    "# p.strip_dirs().sort_stats(\"cumulative\", \"name\").print_stats(0.5)\n",
    "p.strip_dirs().sort_stats(\"cumulative\", \"name\").print_stats(30)\n",
    "# 按照函数名排序，只打印前 3 行函数的信息, 参数还可为小数, 表示前百分之几的函数信息\n",
    "# 如果想知道有哪些函数调用了 ccc\n",
    "# p.print_callers(0.5, \"ccc\")\n",
    "# 查看 ccc() 函数中调用了哪些函数\n",
    "# p.print_callees(\"ccc\")"
   ]
  },
  {
   "cell_type": "markdown",
   "metadata": {},
   "source": [
    "### 经验bootstrap方法是正确的；而百分位法没有依据\n",
    "https://zhuanlan.zhihu.com/p/41099219"
   ]
  },
  {
   "cell_type": "code",
   "execution_count": 8,
   "metadata": {},
   "outputs": [
    {
     "name": "stderr",
     "output_type": "stream",
     "text": [
      "  1%|          | 1038/100000 [00:00<00:09, 10370.61it/s]"
     ]
    },
    {
     "name": "stdout",
     "output_type": "stream",
     "text": [
      "40.8\n"
     ]
    },
    {
     "name": "stderr",
     "output_type": "stream",
     "text": [
      "100%|██████████| 100000/100000 [00:09<00:00, 10732.54it/s]"
     ]
    },
    {
     "name": "stdout",
     "output_type": "stream",
     "text": [
      "37.6 43.7\n",
      "37.89999999999999 43.99999999999999\n"
     ]
    },
    {
     "name": "stderr",
     "output_type": "stream",
     "text": [
      "\n"
     ]
    }
   ],
   "source": [
    "from sklearn.utils import resample\n",
    "import pandas as pd\n",
    "from tqdm import tqdm\n",
    "L = pd.Series([30,37,36,43,42,48,43,46,41,42])\n",
    "print(L.mean())\n",
    "results = []\n",
    "for nrepeat in tqdm(range(100000)):\n",
    "    sample = resample(L,replace=True)\n",
    "    results.append(sample.mean())\n",
    "results = pd.Series(results)\n",
    "confidence_interval = list(results.quantile([0.025, 0.975]))\n",
    "# 百分位bootstrap。这个无依据\n",
    "print(confidence_interval[0], confidence_interval[1])\n",
    "\n",
    "# 经验bootsrap方法1。正法\n",
    "# results_delta = results.copy()-L.mean()\n",
    "# print(L.mean()-list(results_delta.quantile([0.025, 0.975]))[1], L.mean()-list(results_delta.quantile([0.025, 0.975]))[0])\n",
    "\n",
    "# 等价的经验boostrap方法2\n",
    "print(2*L.mean()-confidence_interval[1], 2*L.mean()-confidence_interval[0])"
   ]
  },
  {
   "cell_type": "code",
   "execution_count": null,
   "metadata": {},
   "outputs": [],
   "source": []
  }
 ],
 "metadata": {
  "kernelspec": {
   "display_name": "base",
   "language": "python",
   "name": "python3"
  },
  "language_info": {
   "codemirror_mode": {
    "name": "ipython",
    "version": 3
   },
   "file_extension": ".py",
   "mimetype": "text/x-python",
   "name": "python",
   "nbconvert_exporter": "python",
   "pygments_lexer": "ipython3",
   "version": "3.8.5"
  },
  "orig_nbformat": 4,
  "vscode": {
   "interpreter": {
    "hash": "e4cce46d6be9934fbd27f9ca0432556941ea5bdf741d4f4d64c6cd7f8dfa8fba"
   }
  }
 },
 "nbformat": 4,
 "nbformat_minor": 2
}
