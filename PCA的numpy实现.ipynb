{
 "cells": [
  {
   "attachments": {},
   "cell_type": "markdown",
   "metadata": {},
   "source": [
    "# 1. PCA的numpy实现"
   ]
  },
  {
   "cell_type": "code",
   "execution_count": 1,
   "metadata": {},
   "outputs": [
    {
     "name": "stdout",
     "output_type": "stream",
     "text": [
      "[[ 6.  4.  5.]\n",
      " [ 4.  6.  7.]\n",
      " [ 5.  7. 10.]]\n"
     ]
    }
   ],
   "source": [
    "import numpy as np\n",
    "\n",
    "x = [2,2,4,8,4]\n",
    "y = [2,6,6,8,8]\n",
    "z = [2,4,6,8,10]\n",
    "\n",
    "# 3个特征(x,y,z) , 5条数据(向量)\n",
    "\n",
    "S = np.vstack((x,y,z))\n",
    "print(np.cov(S)) "
   ]
  },
  {
   "cell_type": "code",
   "execution_count": 2,
   "metadata": {},
   "outputs": [
    {
     "name": "stdout",
     "output_type": "stream",
     "text": [
      "[[-2. -2.  0.  4.  0.]\n",
      " [-4.  0.  0.  2.  2.]\n",
      " [-4. -2.  0.  2.  4.]]\n",
      "[[ 6.  4.  5.]\n",
      " [ 4.  6.  7.]\n",
      " [ 5.  7. 10.]]\n",
      "[[ 6.  4.  5.]\n",
      " [ 4.  6.  7.]\n",
      " [ 5.  7. 10.]]\n"
     ]
    }
   ],
   "source": [
    "# 中心化(零均质化)\n",
    "x = x - np.mean(x)\n",
    "y = y - np.mean(y)\n",
    "z = z - np.mean(z)\n",
    "\n",
    "S = np.vstack((x,y,z))\n",
    "\n",
    "print(S)\n",
    "print(np.cov(S))\n",
    "print((1/(5-1) * S.dot(S.T))) # 零均值化后 计算与cov等价 (1/m-1)S·S^T = dim:[3,5] x dim:[5,3]"
   ]
  },
  {
   "cell_type": "code",
   "execution_count": 3,
   "metadata": {},
   "outputs": [
    {
     "name": "stdout",
     "output_type": "stream",
     "text": [
      "[18.54593442  2.74757971  0.70648587]\n",
      "--------------------------------------------------\n",
      "[[ 0.45449308  0.88773369  0.07324579]\n",
      " [ 0.54011155 -0.20926298 -0.81516165]\n",
      " [ 0.70831883 -0.41004623  0.57458379]]\n"
     ]
    }
   ],
   "source": [
    "c = np.array([[6,4,5],\n",
    "                    [4,6,7],\n",
    "                    [5,7,10]])\n",
    "\n",
    "# 计算数据转置的协方差矩阵的特征值和特征向量矩阵Q, 由大到小排列(q1,q2,q3)\n",
    "evalue, evector = np.linalg.eig(c)\n",
    "print(evalue)\n",
    "print('-'*50)\n",
    "print(evector)"
   ]
  },
  {
   "cell_type": "code",
   "execution_count": 4,
   "metadata": {},
   "outputs": [
    {
     "name": "stdout",
     "output_type": "stream",
     "text": [
      "[[-5.90270765 -2.3256238   0.          4.31483305  3.9134984 ]\n",
      " [ 0.70176945 -0.95537492  0.          2.31231633 -2.05871086]\n",
      " [ 0.81581985 -1.29565917  0.         -0.18817254  0.66801187]]\n"
     ]
    }
   ],
   "source": [
    "# 特征向量矩阵Q的转置即为P矩阵, P点乘数据向量矩阵即可得变换后的数据 (u1,u2,u3,u4,u5)\n",
    "PCA = np.dot(evector.T,S)\n",
    "print(PCA)"
   ]
  },
  {
   "cell_type": "code",
   "execution_count": 5,
   "metadata": {},
   "outputs": [
    {
     "data": {
      "text/plain": [
       "array([[ 4.63648360e+00,  4.44089210e-16,  6.66133815e-16],\n",
       "       [ 3.60822483e-16,  6.86894928e-01, -8.32667268e-17],\n",
       "       [ 6.93889390e-16, -1.38777878e-16,  1.76621467e-01]])"
      ]
     },
     "execution_count": 5,
     "metadata": {},
     "output_type": "execute_result"
    }
   ],
   "source": [
    "# 我们希望P映射源数据A后得到的, 新基底下的协方差D为对角阵\n",
    "# D = 1/(n-1) PA·(PA)^T \n",
    "#   = 1/(n-1) P·A·A^T·P^T\n",
    "#   = 1/(n-1) P·C·P^T\n",
    "\n",
    "# 根据正定实对称矩阵S必然可以正交分解 S = Q· Λ ·Q^T , 所以Λ = Q^T·S·Q\n",
    "# 上下对比得到, S = C = A·A^T , Q^T = P\n",
    "\n",
    "# 对对角化矩阵D进行求解 D = 1/(n-1) Q^T · C · Q , D的对角线即为各新坐标方向上的方差\n",
    "D = (1 / (len(S[0])-1)) * (evector.T).dot(np.cov(S)).dot(evector)\n",
    "D\n",
    "\n",
    "#  1/(n-1) * S的eigenvalue 计算上与 D的对角线代表的方差值 相同。\n",
    "# 计算累计百分比时是等价的，因此碎石图使用S的特征值作为“方差”。"
   ]
  },
  {
   "cell_type": "code",
   "execution_count": 6,
   "metadata": {},
   "outputs": [
    {
     "data": {
      "text/plain": [
       "array([[ 4.64,  0.  ,  0.  ],\n",
       "       [ 0.  ,  0.69, -0.  ],\n",
       "       [ 0.  , -0.  ,  0.18]])"
      ]
     },
     "execution_count": 6,
     "metadata": {},
     "output_type": "execute_result"
    }
   ],
   "source": [
    "np.round(D,2)"
   ]
  },
  {
   "attachments": {},
   "cell_type": "markdown",
   "metadata": {},
   "source": [
    "# 2. PCA的sklearn实现"
   ]
  },
  {
   "cell_type": "code",
   "execution_count": 17,
   "metadata": {},
   "outputs": [
    {
     "data": {
      "text/plain": [
       "array([[-0.45449308, -0.54011155, -0.70831883],\n",
       "       [ 0.88773369, -0.20926298, -0.41004623],\n",
       "       [-0.07324579,  0.81516165, -0.57458379]])"
      ]
     },
     "execution_count": 17,
     "metadata": {},
     "output_type": "execute_result"
    }
   ],
   "source": [
    "from sklearn.decomposition import PCA\n",
    "import pandas as pd\n",
    "\n",
    "x = [2,2,4,8,4]\n",
    "y = [2,6,6,8,8]\n",
    "z = [2,4,6,8,10]\n",
    "\n",
    "# x = x - np.mean(x)\n",
    "# y = y - np.mean(y)\n",
    "# z = z - np.mean(z)\n",
    "\n",
    "pcs = PCA(n_components=3)\n",
    "pcs.fit(np.vstack((x,y,z)).T) # 额外多一步.T 从数据向量转为xyz特征列、数据为行\n",
    "pcs.components_  \n",
    "# 为何有一些是相反数?其实只是方向不同,sklearn使用SVD的方式求解,因此为了保证唯一性：\n",
    "# sklearn中的PCA是通过svd_flip函数实现的，sklearn对奇异值分解结果进行了一个处理，因为ui*σi*vi=(-ui)*σi*(-vi)，也就是u和v同时取反得到的结果是一样的，而这会导致通过PCA降维得到不一样的结果（虽然都是正确的）。\n",
    "# 为了追求唯一的表示，首先定位ui向量中绝对值最大的元素位置，如果它为负数，则ui和vi取反，否则不变。"
   ]
  },
  {
   "cell_type": "code",
   "execution_count": 18,
   "metadata": {},
   "outputs": [
    {
     "name": "stdout",
     "output_type": "stream",
     "text": [
      "           0\n",
      "0  18.545934\n",
      "1   2.747580\n",
      "2   0.706486\n"
     ]
    },
    {
     "data": {
      "text/plain": [
       "Text(0.5, 0, 'principal components')"
      ]
     },
     "execution_count": 18,
     "metadata": {},
     "output_type": "execute_result"
    },
    {
     "data": {
      "image/png": "[encoded data removed]",
      "text/plain": [
       "<Figure size 432x288 with 1 Axes>"
      ]
     },
     "metadata": {
      "needs_background": "light"
     },
     "output_type": "display_data"
    }
   ],
   "source": [
    "explained_variance = pd.DataFrame(pcs.explained_variance_)\n",
    "print(explained_variance)\n",
    "ax = explained_variance.plot.bar(legend=False, title='Explained variance by component')\n",
    "ax.set_ylabel('variance')\n",
    "ax.set_xlabel('principal components')"
   ]
  },
  {
   "cell_type": "code",
   "execution_count": 24,
   "metadata": {},
   "outputs": [
    {
     "name": "stdout",
     "output_type": "stream",
     "text": [
      "         q1        q2        q3\n",
      "x -0.454493  0.887734 -0.073246\n",
      "y -0.540112 -0.209263  0.815162\n",
      "z -0.708319 -0.410046 -0.574584\n"
     ]
    },
    {
     "data": {
      "image/png": "[encoded data removed]",
      "text/plain": [
       "<Figure size 360x360 with 3 Axes>"
      ]
     },
     "metadata": {
      "needs_background": "light"
     },
     "output_type": "display_data"
    }
   ],
   "source": [
    "import matplotlib.pyplot as plt\n",
    "loadings = pd.DataFrame(pcs.components_.T, columns=['q1','q2','q3'], index=['x','y','z'])\n",
    "print(loadings)\n",
    "maxPC = 1.01 * np.max(np.max(np.abs(loadings)))\n",
    "f, axes = plt.subplots(3, 1, figsize=(5, 5), sharex=True)\n",
    "for i, ax in enumerate(axes):\n",
    "    pc_loadings = loadings.iloc[:, i]\n",
    "    colors = ['C0' if l > 0 else 'C1' for l in pc_loadings]\n",
    "    ax.axhline(color = '#888888')\n",
    "    pc_loadings.plot.bar(color = colors, ax = ax)\n",
    "    ax.set_ylabel(f'PC{i+1}')\n",
    "    ax.set_ylim(-maxPC,maxPC)"
   ]
  },
  {
   "cell_type": "code",
   "execution_count": null,
   "metadata": {},
   "outputs": [],
   "source": []
  }
 ],
 "metadata": {
  "kernelspec": {
   "display_name": "pymc",
   "language": "python",
   "name": "python3"
  },
  "language_info": {
   "codemirror_mode": {
    "name": "ipython",
    "version": 3
   },
   "file_extension": ".py",
   "mimetype": "text/x-python",
   "name": "python",
   "nbconvert_exporter": "python",
   "pygments_lexer": "ipython3",
   "version": "3.6.13"
  },
  "orig_nbformat": 4
 },
 "nbformat": 4,
 "nbformat_minor": 2
}
