{
 "cells": [
  {
   "cell_type": "code",
   "execution_count": 2,
   "metadata": {},
   "outputs": [
    {
     "name": "stdout",
     "output_type": "stream",
     "text": [
      "0.0912245460839306 1886.3105104135236 3143.850850689206\n"
     ]
    }
   ],
   "source": [
    "from statsmodels.stats.power import NormalIndPower\n",
    "import math\n",
    "effect_size = 0.15*0.27/math.sqrt(0.27*(1-0.27))\n",
    "ztest = NormalIndPower()\n",
    "num = ztest.solve_power(\n",
    "    effect_size = effect_size, # effect_size=(|μA-μB|)/σ 这是数值，但是标准差只能根据经验去预估；\n",
    "    nobs1 = None,              # 对照组\n",
    "    alpha = 0.05,              # alpha=α\n",
    "    power = 0.8,               # power=1-β\n",
    "    ratio = 1,                 # ratio=处理组与对照组的比值\n",
    "    alternative = 'two-sided'\n",
    ")\n",
    "print(effect_size,num, num*1.5/0.9)"
   ]
  },
  {
   "cell_type": "markdown",
   "metadata": {},
   "source": [
    "### 计算比值数据的特殊计算逻辑"
   ]
  },
  {
   "cell_type": "code",
   "execution_count": 12,
   "metadata": {},
   "outputs": [
    {
     "name": "stdout",
     "output_type": "stream",
     "text": [
      "0.09363048548901032\n",
      "简单随机抽样样本量 1791.5752273267883\n",
      "考虑设计效应和失访率的样本量 2985.958712211314\n"
     ]
    }
   ],
   "source": [
    "# 当μA和μB都是比值时，效应量effect_size的计算方式有点不同：\n",
    "# 2 * (arcsin(sqrt(μA)) - arcsin(sqrt(μB)))\n",
    "import statsmodels as sm \n",
    "import statsmodels.api as sma \n",
    "\n",
    "p0 = 0.27\n",
    "delta = 0.15\n",
    "\n",
    "effect_size_api = sma.stats.proportion_effectsize(p0, (1-delta)*p0)\n",
    "analysis = sm.stats.power.TTestIndPower()\n",
    "result = analysis.solve_power(effect_size=effect_size_api,\n",
    "                            alpha=0.05,\n",
    "                            power=0.8,\n",
    "                            alternative='two-sided')\n",
    "\n",
    "deff = 1.5 # 设计效应1.5倍\n",
    "enlarge = 0.1 # 失访率10%\n",
    "\n",
    "print(effect_size_api)\n",
    "print(f'简单随机抽样样本量 {result}')\n",
    "print(f'考虑设计效应和失访率的样本量 {deff*result/(1-enlarge)}')"
   ]
  },
  {
   "cell_type": "markdown",
   "metadata": {},
   "source": [
    "# Power and Sample Size\n",
    "statsmodels has a number of methods for power calculation\n",
    "\n",
    "see e.g.: https://machinelearningmastery.com/statistical-power-and-power-analysis-in-python/"
   ]
  },
  {
   "cell_type": "code",
   "execution_count": 8,
   "metadata": {},
   "outputs": [
    {
     "name": "stderr",
     "output_type": "stream",
     "text": [
      "  1%|          | 10/1000 [00:14<25:03,  1.52s/it]"
     ]
    }
   ],
   "source": [
    "import numpy as np\n",
    "import pandas as pd\n",
    "from tqdm import tqdm\n",
    "\n",
    "p0 = np.zeros(100)\n",
    "p0[:27] = 1\n",
    "p1 = np.zeros(100)\n",
    "p1[:18] = 1\n",
    "\n",
    "def perm_fun(x,nA,nB,double_site_test=True):\n",
    "    n = nA + nB\n",
    "    idx_B = set(np.random.choice(n, nB , replace=False))\n",
    "    idx_A = set(range(n)) - idx_B\n",
    "    if double_site_test:\n",
    "        return abs(x[idx_B].mean() - x[idx_A].mean())\n",
    "    else:\n",
    "        return x[idx_B].mean() - x[idx_A].mean()\n",
    "\n",
    "for n in range(900, 1300 , 100):\n",
    "    beta = []\n",
    "    for power_cal_times in tqdm(range(1000)):\n",
    "        l = []\n",
    "        for i in range(n):\n",
    "            l.append(np.random.choice(p0,replace=True))\n",
    "            l.append(np.random.choice(p1,replace=True))\n",
    "        l = pd.Series(l)\n",
    "        perm_diffs = [perm_fun(l,n,n) for _ in range(1000)]\n",
    "        beta.append(np.mean([diff > 0.27*0.15 for diff in perm_diffs]))\n",
    "    power_i = np.mean([betai < 0.05 for betai in beta])\n",
    "    if power_i > 0.8:\n",
    "        print(f'当样本量为{n}时，置换检验的p值为显著性的概率POWER为{power_i}')\n",
    "    else:\n",
    "        print(f'当样本量为{n}时，POWER={power_i}')\n"
   ]
  },
  {
   "cell_type": "markdown",
   "metadata": {},
   "source": [
    "### 经验bootstrap方法是正确的；而百分位法没有依据\n",
    "https://zhuanlan.zhihu.com/p/41099219"
   ]
  },
  {
   "cell_type": "code",
   "execution_count": null,
   "metadata": {},
   "outputs": [
    {
     "name": "stderr",
     "output_type": "stream",
     "text": [
      "  1%|          | 1038/100000 [00:00<00:09, 10370.61it/s]"
     ]
    },
    {
     "name": "stdout",
     "output_type": "stream",
     "text": [
      "40.8\n"
     ]
    },
    {
     "name": "stderr",
     "output_type": "stream",
     "text": [
      "100%|██████████| 100000/100000 [00:09<00:00, 10732.54it/s]"
     ]
    },
    {
     "name": "stdout",
     "output_type": "stream",
     "text": [
      "37.6 43.7\n",
      "37.89999999999999 43.99999999999999\n"
     ]
    },
    {
     "name": "stderr",
     "output_type": "stream",
     "text": [
      "\n"
     ]
    }
   ],
   "source": [
    "from sklearn.utils import resample\n",
    "import pandas as pd\n",
    "from tqdm import tqdm\n",
    "L = pd.Series([30,37,36,43,42,48,43,46,41,42])\n",
    "print(L.mean())\n",
    "results = []\n",
    "for nrepeat in tqdm(range(100000)):\n",
    "    sample = resample(L,replace=True)\n",
    "    results.append(sample.mean())\n",
    "results = pd.Series(results)\n",
    "confidence_interval = list(results.quantile([0.025, 0.975]))\n",
    "# 百分位bootstrap。这个无依据\n",
    "print(confidence_interval[0], confidence_interval[1])\n",
    "\n",
    "# 经验bootsrap方法1。正法\n",
    "# results_delta = results.copy()-L.mean()\n",
    "# print(L.mean()-list(results_delta.quantile([0.025, 0.975]))[1], L.mean()-list(results_delta.quantile([0.025, 0.975]))[0])\n",
    "\n",
    "# 等价的经验boostrap方法2\n",
    "print(2*L.mean()-confidence_interval[1], 2*L.mean()-confidence_interval[0])"
   ]
  },
  {
   "cell_type": "markdown",
   "metadata": {},
   "source": [
    "### 普查得到的0.27值，效应量0.15P，计算样本量"
   ]
  },
  {
   "cell_type": "code",
   "execution_count": 19,
   "metadata": {},
   "outputs": [
    {
     "name": "stderr",
     "output_type": "stream",
     "text": [
      "10000it [00:00, 15726.65it/s]\n"
     ]
    },
    {
     "name": "stdout",
     "output_type": "stream",
     "text": [
      "当样本量为600时,H0的alpha/2左缘远离H1的power右缘的距离-0.00833333333333336\n"
     ]
    },
    {
     "name": "stderr",
     "output_type": "stream",
     "text": [
      "10000it [00:00, 14385.58it/s]\n"
     ]
    },
    {
     "name": "stdout",
     "output_type": "stream",
     "text": [
      "当样本量为700时,H0的alpha/2左缘远离H1的power右缘的距离-0.0057142857142856995\n"
     ]
    },
    {
     "name": "stderr",
     "output_type": "stream",
     "text": [
      "10000it [00:00, 14354.53it/s]\n"
     ]
    },
    {
     "name": "stdout",
     "output_type": "stream",
     "text": [
      "当样本量为800时,H0的alpha/2左缘远离H1的power右缘的距离-0.0025000000000000022\n"
     ]
    },
    {
     "name": "stderr",
     "output_type": "stream",
     "text": [
      "10000it [00:00, 14788.39it/s]\n"
     ]
    },
    {
     "name": "stdout",
     "output_type": "stream",
     "text": [
      "当样本量为900时,H0的alpha/2左缘远离H1的power右缘的距离0.0\n"
     ]
    },
    {
     "name": "stderr",
     "output_type": "stream",
     "text": [
      "10000it [00:00, 14745.18it/s]\n"
     ]
    },
    {
     "name": "stdout",
     "output_type": "stream",
     "text": [
      "当样本量为1000时,H0的alpha/2左缘远离H1的power右缘的距离0.0020000000000000018\n"
     ]
    },
    {
     "name": "stderr",
     "output_type": "stream",
     "text": [
      "10000it [00:00, 14426.64it/s]\n"
     ]
    },
    {
     "name": "stdout",
     "output_type": "stream",
     "text": [
      "当样本量为1100时,H0的alpha/2左缘远离H1的power右缘的距离0.002727272727272717\n"
     ]
    },
    {
     "name": "stderr",
     "output_type": "stream",
     "text": [
      "10000it [00:00, 14171.94it/s]\n"
     ]
    },
    {
     "name": "stdout",
     "output_type": "stream",
     "text": [
      "当样本量为1200时,H0的alpha/2左缘远离H1的power右缘的距离0.0050000000000000044\n"
     ]
    }
   ],
   "source": [
    "import numpy as np \n",
    "from tqdm import tqdm\n",
    "from sklearn.utils import resample\n",
    "\n",
    "alpha = 0.05\n",
    "power = 0.80\n",
    "\n",
    "for bootstrap_sample_size in range(600,1300,100):\n",
    "    # bootstrap_sample_size = 800\n",
    "    p0 = np.zeros(100)\n",
    "    p0[:27] = 1\n",
    "    p1 = np.zeros(100)\n",
    "    p1[:23] = 1\n",
    "    p0_boot = tqdm(resample(p0,n_samples=bootstrap_sample_size,replace=True) for _ in range(10000))\n",
    "    p1_boot = (resample(p1,n_samples=bootstrap_sample_size,replace=True) for _ in range(10000))\n",
    "    a = np.array(list(p0_boot)).mean(axis=1)\n",
    "    b = np.array(list(p1_boot)).mean(axis=1)\n",
    "    print(f'当样本量为{bootstrap_sample_size}时,\\\n",
    "H0的alpha/2左缘远离H1的power右缘的距离{np.percentile(a,alpha/2*100) - np.percentile(b,power*100)}')\n",
    "\n",
    "    # print(b)\n",
    "    # b = np.where((0.27-b) > 0.04 , 1,0)\n",
    "    # print(b)\n",
    "    # print(f'sample = {bootstrap_sample_size}时, 置信区间{0.27- np.percentile(b,[97.2,2.5])}')\n",
    "    # print(f'{(np.where((0.27-b)>0.04,1,0)).mean()}')\n",
    "    # print(0.27 - np.percentile(b,80))"
   ]
  },
  {
   "cell_type": "code",
   "execution_count": null,
   "metadata": {},
   "outputs": [],
   "source": []
  }
 ],
 "metadata": {
  "interpreter": {
   "hash": "97ae724bfa85b9b34df7982b8bb8c7216f435b92902d749e4263f71162bea840"
  },
  "kernelspec": {
   "display_name": "Python 3.8.3 ('base')",
   "language": "python",
   "name": "python3"
  },
  "language_info": {
   "codemirror_mode": {
    "name": "ipython",
    "version": 3
   },
   "file_extension": ".py",
   "mimetype": "text/x-python",
   "name": "python",
   "nbconvert_exporter": "python",
   "pygments_lexer": "ipython3",
   "version": "3.8.3"
  },
  "orig_nbformat": 4
 },
 "nbformat": 4,
 "nbformat_minor": 2
}
